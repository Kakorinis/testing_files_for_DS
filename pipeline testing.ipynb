{
 "cells": [
  {
   "cell_type": "code",
   "execution_count": 103,
   "id": "9a813d8b",
   "metadata": {},
   "outputs": [],
   "source": [
    "import pandas as pd\n",
    "import numpy as np\n",
    "\n",
    "from sklearn.svm import SVC\n",
    "from sklearn.linear_model import LogisticRegression\n",
    "from sklearn.ensemble import RandomForestClassifier\n",
    "from sklearn.svm import SVC\n",
    "\n",
    "from sklearn.pipeline import make_pipeline, Pipeline\n",
    "\n",
    "from sklearn.datasets import load_breast_cancer\n",
    "from sklearn.model_selection import train_test_split\n",
    "\n",
    "from sklearn.preprocessing import MinMaxScaler, StandardScaler, PolynomialFeatures\n",
    "from sklearn.model_selection import GridSearchCV, KFold \n",
    "\n",
    "from sklearn.metrics import accuracy_score\n",
    "from sklearn.metrics import f1_score\n",
    "\n",
    "import warnings\n",
    "warnings.filterwarnings('ignore')"
   ]
  },
  {
   "cell_type": "code",
   "execution_count": 65,
   "id": "7e471238",
   "metadata": {},
   "outputs": [],
   "source": [
    "cancer = load_breast_cancer()\n",
    "\n",
    "X = cancer.data   #нампай массив\n",
    "y = cancer.target"
   ]
  },
  {
   "cell_type": "code",
   "execution_count": 102,
   "id": "f524c8d9",
   "metadata": {},
   "outputs": [
    {
     "data": {
      "text/plain": [
       "(569, 212)"
      ]
     },
     "execution_count": 102,
     "metadata": {},
     "output_type": "execute_result"
    }
   ],
   "source": [
    "len(y),np.sum(y==0)"
   ]
  },
  {
   "cell_type": "markdown",
   "id": "84b7dc56",
   "metadata": {},
   "source": [
    "__Видим что классы несбалансированны (всего 569 наблюдений, из которых 212 нулевого класса), поэтому в качестве метрики вместо аккураси будем использовать f1-меру__"
   ]
  },
  {
   "cell_type": "code",
   "execution_count": 66,
   "id": "34a9b029",
   "metadata": {},
   "outputs": [],
   "source": [
    "X_train, X_test, y_train, y_test = train_test_split(\n",
    "X, y, random_state=1)"
   ]
  },
  {
   "cell_type": "code",
   "execution_count": 104,
   "id": "e3d925ef",
   "metadata": {},
   "outputs": [
    {
     "name": "stdout",
     "output_type": "stream",
     "text": [
      "Train: 0.9560439560439561 , Test: 0.9545454545454546\n"
     ]
    }
   ],
   "source": [
    "logreg = LogisticRegression(random_state=1).fit(X_train,y_train)\n",
    "\n",
    "pred_train, pred_test = logreg.predict(X_train), logreg.predict(X_test)\n",
    "\n",
    "print(f'Train: {f1_score(y_train, pred_train)} , Test: {f1_score(y_test, pred_test)}')"
   ]
  },
  {
   "cell_type": "markdown",
   "id": "496d4cea",
   "metadata": {},
   "source": [
    "__Теперь посчитаем все то же самое, но на масштабированных данных:__"
   ]
  },
  {
   "cell_type": "code",
   "execution_count": 105,
   "id": "a0a1a8fe",
   "metadata": {},
   "outputs": [
    {
     "name": "stdout",
     "output_type": "stream",
     "text": [
      "Train: 0.9727767695099819 , Test: 0.967032967032967\n"
     ]
    }
   ],
   "source": [
    "scaler3 = MinMaxScaler().fit(X)\n",
    "X_scaled = scaler3.transform(X)\n",
    "\n",
    "X_train3, X_test3, y_train3, y_test3 = train_test_split(X_scaled, y, random_state=1)\n",
    "\n",
    "logreg3 = LogisticRegression(random_state=1).fit(X_train3,y_train3)\n",
    "\n",
    "pred_train3, pred_test3 = logreg3.predict(X_train3), logreg3.predict(X_test3)\n",
    "\n",
    "print(f'Train: {f1_score(y_train3, pred_train3)} , Test: {f1_score(y_test3, pred_test3)}')"
   ]
  },
  {
   "cell_type": "markdown",
   "id": "6f7bade8",
   "metadata": {},
   "source": [
    "__Делаем пайплайн__"
   ]
  },
  {
   "cell_type": "code",
   "execution_count": 106,
   "id": "a2bd785a",
   "metadata": {},
   "outputs": [
    {
     "name": "stdout",
     "output_type": "stream",
     "text": [
      "Test: 0.967032967032967\n"
     ]
    }
   ],
   "source": [
    "pipe = make_pipeline(MinMaxScaler(), LogisticRegression(random_state=1))\n",
    "pipe.fit(X_train, y_train)\n",
    "\n",
    "pipe_pred_test = pipe.predict(X_test)\n",
    "print(f'Test: {f1_score(y_test, pipe_pred_test)}')"
   ]
  },
  {
   "cell_type": "markdown",
   "id": "7fcd9cfb",
   "metadata": {},
   "source": [
    "__Получили то же самое что и до этого на масш. данныx - модель работает корректно__\n",
    "\n",
    "Идем дальше"
   ]
  },
  {
   "cell_type": "code",
   "execution_count": 70,
   "id": "65fe1923",
   "metadata": {},
   "outputs": [
    {
     "data": {
      "text/plain": [
       "[('minmaxscaler', MinMaxScaler()),\n",
       " ('logisticregression', LogisticRegression(random_state=1))]"
      ]
     },
     "execution_count": 70,
     "metadata": {},
     "output_type": "execute_result"
    }
   ],
   "source": [
    "pipe.steps"
   ]
  },
  {
   "cell_type": "code",
   "execution_count": 71,
   "id": "309f901d",
   "metadata": {},
   "outputs": [
    {
     "data": {
      "text/plain": [
       "Pipeline(steps=[('minmaxscaler', MinMaxScaler()),\n",
       "                ('logisticregression',\n",
       "                 LogisticRegression(C=10, max_iter=50, random_state=1))])"
      ]
     },
     "execution_count": 71,
     "metadata": {},
     "output_type": "execute_result"
    }
   ],
   "source": [
    "params_grid = {'logisticregression__penalty': ['l1', 'l2'],  # не распознает пеналти почему-то\n",
    "          'logisticregression__C': [0.01, 0.1, 1, 10, 100],\n",
    "          'logisticregression__max_iter': [50, 100, 200, 300, 500],\n",
    "          'logisticregression__solver': ['lbfgs', 'liblinear']} # 'liblinear' проверю т.к. он для малых датасетов\n",
    "                                                                # тоже игнорирует параметр солвер\n",
    "grid = GridSearchCV(pipe, params_grid, cv=5)\n",
    "grid.fit(X_train, y_train)\n",
    "\n",
    "# Смотрим лучшие параметры\n",
    "grid.best_estimator_"
   ]
  },
  {
   "cell_type": "markdown",
   "id": "c9ce04a1",
   "metadata": {},
   "source": [
    "Добираемся до коэффициентов модели:"
   ]
  },
  {
   "cell_type": "code",
   "execution_count": 72,
   "id": "9855d028",
   "metadata": {},
   "outputs": [
    {
     "data": {
      "text/plain": [
       "array([[-2.74420262, -2.50667374, -2.64958624, -2.45421695, -0.66965232,\n",
       "         0.93489905, -2.73551588, -3.47031245, -0.67609417,  2.27956463,\n",
       "        -2.96081898, -0.27998362, -1.92631838, -1.80243336, -0.95225867,\n",
       "         2.69219356,  0.28457239, -0.82829096,  0.2577377 ,  1.67881171,\n",
       "        -4.94530719, -4.31776017, -4.2700511 , -3.65296409, -2.67972148,\n",
       "        -0.06184301, -2.73936938, -4.8049408 , -3.20918207, -0.99899885]])"
      ]
     },
     "execution_count": 72,
     "metadata": {},
     "output_type": "execute_result"
    }
   ],
   "source": [
    "grid.best_estimator_.named_steps[\"logisticregression\"].coef_"
   ]
  },
  {
   "cell_type": "markdown",
   "id": "6a84ad6b",
   "metadata": {},
   "source": [
    "Полные  параметры модели:"
   ]
  },
  {
   "cell_type": "code",
   "execution_count": 73,
   "id": "a1f48255",
   "metadata": {},
   "outputs": [
    {
     "data": {
      "text/plain": [
       "{'C': 10,\n",
       " 'class_weight': None,\n",
       " 'dual': False,\n",
       " 'fit_intercept': True,\n",
       " 'intercept_scaling': 1,\n",
       " 'l1_ratio': None,\n",
       " 'max_iter': 50,\n",
       " 'multi_class': 'auto',\n",
       " 'n_jobs': None,\n",
       " 'penalty': 'l2',\n",
       " 'random_state': 1,\n",
       " 'solver': 'lbfgs',\n",
       " 'tol': 0.0001,\n",
       " 'verbose': 0,\n",
       " 'warm_start': False}"
      ]
     },
     "execution_count": 73,
     "metadata": {},
     "output_type": "execute_result"
    }
   ],
   "source": [
    "grid.best_estimator_.named_steps[\"logisticregression\"].get_params(deep=True)"
   ]
  },
  {
   "cell_type": "markdown",
   "id": "f8b1cbf6",
   "metadata": {},
   "source": [
    "__Можем записать лучшую модель в переменную таким образом, но лучше тем что закоммичен, т.к. выявляем лучшую мы 1 раз, а далее при запуске кода заново нам не нужно чтобы поиск лучшей модели запускался заново__"
   ]
  },
  {
   "cell_type": "code",
   "execution_count": 107,
   "id": "9bb4f815",
   "metadata": {},
   "outputs": [
    {
     "name": "stdout",
     "output_type": "stream",
     "text": [
      "Test: 0.9720670391061453\n"
     ]
    }
   ],
   "source": [
    "best_pipe = grid.best_estimator_\n",
    "# или make_pipeline(MinMaxScaler(), LogisticRegression(C=10, max_iter=50, random_state=1))\n",
    "\n",
    "best_pipe.fit(X_train, y_train)\n",
    "\n",
    "best_pipe_pred_test = best_pipe.predict(X_test)\n",
    "print(f'Test: {f1_score(y_test, best_pipe_pred_test)}')"
   ]
  },
  {
   "cell_type": "markdown",
   "id": "4026cb67",
   "metadata": {},
   "source": [
    "Зададим несколько моделей МО в поиск и посмотрим какая лучше:"
   ]
  },
  {
   "cell_type": "code",
   "execution_count": 75,
   "id": "3cfb82e3",
   "metadata": {},
   "outputs": [
    {
     "data": {
      "text/plain": [
       "Pipeline(steps=[('preprocessing', MinMaxScaler()),\n",
       "                ('polyfeat', PolynomialFeatures(degree=1)),\n",
       "                ('classifier',\n",
       "                 LogisticRegression(C=10, max_iter=50, random_state=1))])"
      ]
     },
     "execution_count": 75,
     "metadata": {},
     "output_type": "execute_result"
    }
   ],
   "source": [
    "# Помним что только простые? линейные модели чувствительны к полиномам\n",
    "\n",
    "pipe = Pipeline([('preprocessing', MinMaxScaler()),('polyfeat', PolynomialFeatures()), ('classifier', SVC())])\n",
    "\n",
    "params_grid = [{'classifier': [SVC()], 'preprocessing': [MinMaxScaler()],'polyfeat': [PolynomialFeatures()],\n",
    "                'classifier__random_state': [1],\n",
    "                'classifier__gamma': [0.001, 0.01, 0.1, 1, 10, 100],\n",
    "                'classifier__C': [0.001, 0.01, 0.1, 1, 10, 100],\n",
    "                'polyfeat__degree': [None]}, # выключил т.к. SVC сложная модель самам по себе\n",
    "               \n",
    "               {'classifier': [RandomForestClassifier()],'preprocessing': [None],'polyfeat': [None],\n",
    "                'classifier__random_state': [1],\n",
    "                'classifier__max_features': [2, 3, 5, 7, 10],\n",
    "               'classifier__n_estimators': [50, 100, 150, 250, 400],\n",
    "               'classifier__min_samples_leaf': [2, 5, 8, 12]},\n",
    "               \n",
    "              {'classifier': [LogisticRegression()],'preprocessing': [MinMaxScaler()],'polyfeat': [PolynomialFeatures()],\n",
    "               'classifier__random_state': [1],\n",
    "               'classifier__penalty': ['l1', 'l2'],  # не распознает пеналти кажется l2 по умолчанию\n",
    "               'classifier__C': [0.01, 0.1, 1, 10, 100],\n",
    "               'classifier__max_iter': [50, 100, 200, 300, 500],\n",
    "               'classifier__solver': ['lbfgs', 'liblinear'],\n",
    "               'polyfeat__degree': [1,2,3]}]\n",
    "\n",
    "               \n",
    "grid_check = GridSearchCV(pipe, params_grid, cv=5)\n",
    "grid_check.fit(X_train, y_train)\n",
    "grid_check.best_estimator_\n"
   ]
  },
  {
   "cell_type": "markdown",
   "id": "0c3addc9",
   "metadata": {},
   "source": [
    "Итак, Логистическая регрессия лучше всего справляется с предсказаниями."
   ]
  },
  {
   "cell_type": "code",
   "execution_count": 98,
   "id": "48dc77c4",
   "metadata": {},
   "outputs": [
    {
     "data": {
      "text/plain": [
       "(0.9907578558225507, 0.9720670391061453)"
      ]
     },
     "execution_count": 98,
     "metadata": {},
     "output_type": "execute_result"
    }
   ],
   "source": [
    "f1_score(y_train, grid_check.best_estimator_.predict(X_train)),\\\n",
    "f1_score(y_test, grid_check.best_estimator_.predict(X_test))"
   ]
  },
  {
   "cell_type": "markdown",
   "id": "c5c5f804",
   "metadata": {},
   "source": [
    "__Посмотрим какую степень полиномов использует лучшая модель:__"
   ]
  },
  {
   "cell_type": "code",
   "execution_count": 76,
   "id": "fe284bf8",
   "metadata": {},
   "outputs": [
    {
     "data": {
      "text/plain": [
       "{'degree': 1, 'include_bias': True, 'interaction_only': False, 'order': 'C'}"
      ]
     },
     "execution_count": 76,
     "metadata": {},
     "output_type": "execute_result"
    }
   ],
   "source": [
    "grid_check.best_estimator_.named_steps[\"polyfeat\"].get_params(deep=True)"
   ]
  },
  {
   "cell_type": "markdown",
   "id": "3bf8cc0e",
   "metadata": {},
   "source": [
    "__Посмотрим все параметры LogisticRegression лучшей модели:__"
   ]
  },
  {
   "cell_type": "code",
   "execution_count": 77,
   "id": "fb8b95e0",
   "metadata": {},
   "outputs": [
    {
     "data": {
      "text/plain": [
       "{'C': 10,\n",
       " 'class_weight': None,\n",
       " 'dual': False,\n",
       " 'fit_intercept': True,\n",
       " 'intercept_scaling': 1,\n",
       " 'l1_ratio': None,\n",
       " 'max_iter': 50,\n",
       " 'multi_class': 'auto',\n",
       " 'n_jobs': None,\n",
       " 'penalty': 'l2',\n",
       " 'random_state': 1,\n",
       " 'solver': 'lbfgs',\n",
       " 'tol': 0.0001,\n",
       " 'verbose': 0,\n",
       " 'warm_start': False}"
      ]
     },
     "execution_count": 77,
     "metadata": {},
     "output_type": "execute_result"
    }
   ],
   "source": [
    "grid_check.best_estimator_.named_steps[\"classifier\"].get_params(deep=True)"
   ]
  },
  {
   "cell_type": "markdown",
   "id": "13a17382",
   "metadata": {},
   "source": [
    "__Захотелось убедиться что SVC действительно проигрывает лог. регрессии:__\n",
    "\n",
    "Насколько понял полиномы эффективны только в просты линейных моделях, SVC же сложная модель, но на всякий попробуем с полиномами"
   ]
  },
  {
   "cell_type": "code",
   "execution_count": 79,
   "id": "39494244",
   "metadata": {},
   "outputs": [
    {
     "data": {
      "text/plain": [
       "(Pipeline(steps=[('minmaxscaler', MinMaxScaler()),\n",
       "                 ('polynomialfeatures', PolynomialFeatures()),\n",
       "                 ('svc', SVC(C=10, gamma=0.1, random_state=1))]),\n",
       " 0.958041958041958)"
      ]
     },
     "execution_count": 79,
     "metadata": {},
     "output_type": "execute_result"
    }
   ],
   "source": [
    "pipe2 = make_pipeline(MinMaxScaler(), PolynomialFeatures(),  SVC())\n",
    "\n",
    "params_grid2 = {'polynomialfeatures__degree': [1,2,3],\n",
    "                'svc__random_state': [1],\n",
    "                'svc__gamma': [0.001, 0.01, 0.1, 1, 10, 100],\n",
    "                'svc__C': [0.001, 0.01, 0.1, 1, 10, 100]}\n",
    "\n",
    "grid_check2 = GridSearchCV(pipe2, params_grid2, cv=5, n_jobs=-1)\n",
    "grid_check2.fit(X_train, y_train)\n",
    "\n",
    "grid_check2.best_estimator_"
   ]
  },
  {
   "cell_type": "code",
   "execution_count": 109,
   "id": "305211fd",
   "metadata": {},
   "outputs": [
    {
     "data": {
      "text/plain": [
       "0.9662921348314608"
      ]
     },
     "execution_count": 109,
     "metadata": {},
     "output_type": "execute_result"
    }
   ],
   "source": [
    "f1_score(y_test, grid_check2.best_estimator_.predict(X_test))"
   ]
  },
  {
   "cell_type": "markdown",
   "id": "64acf4c1",
   "metadata": {},
   "source": [
    "__Действительно уступает, лучшая модель использует при этом вторую степень полиномов:__"
   ]
  },
  {
   "cell_type": "code",
   "execution_count": 95,
   "id": "4d798f3c",
   "metadata": {},
   "outputs": [
    {
     "data": {
      "text/plain": [
       "({'degree': 2, 'include_bias': True, 'interaction_only': False, 'order': 'C'},\n",
       " '****************************************************************************',\n",
       " {'C': 10,\n",
       "  'break_ties': False,\n",
       "  'cache_size': 200,\n",
       "  'class_weight': None,\n",
       "  'coef0': 0.0,\n",
       "  'decision_function_shape': 'ovr',\n",
       "  'degree': 3,\n",
       "  'gamma': 0.1,\n",
       "  'kernel': 'rbf',\n",
       "  'max_iter': -1,\n",
       "  'probability': False,\n",
       "  'random_state': 1,\n",
       "  'shrinking': True,\n",
       "  'tol': 0.001,\n",
       "  'verbose': False})"
      ]
     },
     "execution_count": 95,
     "metadata": {},
     "output_type": "execute_result"
    }
   ],
   "source": [
    "grid_check2.best_estimator_.named_steps[\"polynomialfeatures\"].get_params(deep=True), \\\n",
    "'*'*76, \\\n",
    "grid_check2.best_estimator_.named_steps[\"svc\"].get_params(deep=True)"
   ]
  },
  {
   "cell_type": "code",
   "execution_count": null,
   "id": "86728d05",
   "metadata": {},
   "outputs": [],
   "source": []
  },
  {
   "cell_type": "code",
   "execution_count": null,
   "id": "f4bc41a8",
   "metadata": {},
   "outputs": [],
   "source": []
  },
  {
   "cell_type": "markdown",
   "id": "2f654cea",
   "metadata": {},
   "source": [
    "Ниже тестирую ручную лог рег. с гр.спуском, т.к. раньше выдавала лучше результат"
   ]
  },
  {
   "cell_type": "code",
   "execution_count": 117,
   "id": "4dd983d9",
   "metadata": {},
   "outputs": [
    {
     "name": "stdout",
     "output_type": "stream",
     "text": [
      "Train: 0.19402985074626866 , Test: 0.23703703703703705\n"
     ]
    }
   ],
   "source": [
    "def sigmoid(z):\n",
    "    res = 1 / (1 + np.exp(-z))\n",
    "    return res\n",
    "\n",
    "def calc_logloss(y, y_pred):\n",
    "    y_pred_min = 1e-4\n",
    "    y_pred_max = 1 - 1e-4\n",
    "    y_pred = np.clip(y_pred, y_pred_min, y_pred_max)\n",
    "    err = - np.mean(y * np.log(y_pred) + (1.0 - y) * np.log(1.0 - y_pred))\n",
    "    return err\n",
    "\n",
    "# функция лог регрессии\n",
    "def calc_pred_proba(X, W):\n",
    "    z = np.dot(X, W)\n",
    "    return 1/(1 + np.exp(-z))\n",
    "\n",
    "# град спуск для лог регрессии\n",
    "def eval_model(X, y, iterations, eta=1e-4):\n",
    "    np.random.seed(42)\n",
    "    W = np.random.normal(size=(X.shape[1])) #np.random.randn(X.shape[1]) #np.zeros(X.shape[1])\n",
    "    n = X.shape[0]\n",
    "    \n",
    "    for i in range(iterations):\n",
    "        z = np.dot(X, W)\n",
    "        y_pred = sigmoid(z)\n",
    "        err = calc_logloss(y, y_pred)\n",
    "        \n",
    "        dQ = 1/n * X.T @ (y_pred - y)\n",
    "        W -= eta * dQ\n",
    "#         if i % (iterations / 10) == 0:   # выключил т.к. смысла нет - для себя делал чтоб понимать что работает\n",
    "#            print(i, W, err)\n",
    "    return W\n",
    "\n",
    "# используем чтобы перевести вероятности в класс. Нужно правда найти правильный порог еще\n",
    "def calc_pred(P):\n",
    "    return np.where(P > 0.5, 1, 0)\n",
    "\n",
    "\n",
    "W = eval_model(X_train3, y_train3, iterations=500, eta=1e-4)\n",
    "to_pred_train = calc_pred_proba(X_train3, W)\n",
    "hand_pred_train = calc_pred(to_pred_train)\n",
    "\n",
    "to_pred_test = calc_pred_proba(X_test3, W)\n",
    "hand_pred_test = calc_pred(to_pred_test)\n",
    "\n",
    "print(f'Train: {f1_score(y_train3, hand_pred_train)} , Test: {f1_score(y_test3, hand_pred_test)}')"
   ]
  },
  {
   "cell_type": "code",
   "execution_count": 116,
   "id": "0bf9c155",
   "metadata": {},
   "outputs": [
    {
     "data": {
      "text/html": [
       "<div>\n",
       "<style scoped>\n",
       "    .dataframe tbody tr th:only-of-type {\n",
       "        vertical-align: middle;\n",
       "    }\n",
       "\n",
       "    .dataframe tbody tr th {\n",
       "        vertical-align: top;\n",
       "    }\n",
       "\n",
       "    .dataframe thead th {\n",
       "        text-align: right;\n",
       "    }\n",
       "</style>\n",
       "<table border=\"1\" class=\"dataframe\">\n",
       "  <thead>\n",
       "    <tr style=\"text-align: right;\">\n",
       "      <th></th>\n",
       "      <th>y_test</th>\n",
       "      <th>chance_test</th>\n",
       "      <th>hand_pred_test</th>\n",
       "    </tr>\n",
       "  </thead>\n",
       "  <tbody>\n",
       "    <tr>\n",
       "      <th>0</th>\n",
       "      <td>1</td>\n",
       "      <td>0.374637</td>\n",
       "      <td>1</td>\n",
       "    </tr>\n",
       "    <tr>\n",
       "      <th>1</th>\n",
       "      <td>0</td>\n",
       "      <td>0.367355</td>\n",
       "      <td>1</td>\n",
       "    </tr>\n",
       "    <tr>\n",
       "      <th>2</th>\n",
       "      <td>1</td>\n",
       "      <td>0.325055</td>\n",
       "      <td>1</td>\n",
       "    </tr>\n",
       "    <tr>\n",
       "      <th>3</th>\n",
       "      <td>0</td>\n",
       "      <td>0.716000</td>\n",
       "      <td>1</td>\n",
       "    </tr>\n",
       "    <tr>\n",
       "      <th>4</th>\n",
       "      <td>0</td>\n",
       "      <td>0.359988</td>\n",
       "      <td>1</td>\n",
       "    </tr>\n",
       "    <tr>\n",
       "      <th>...</th>\n",
       "      <td>...</td>\n",
       "      <td>...</td>\n",
       "      <td>...</td>\n",
       "    </tr>\n",
       "    <tr>\n",
       "      <th>138</th>\n",
       "      <td>1</td>\n",
       "      <td>0.328255</td>\n",
       "      <td>1</td>\n",
       "    </tr>\n",
       "    <tr>\n",
       "      <th>139</th>\n",
       "      <td>1</td>\n",
       "      <td>0.443535</td>\n",
       "      <td>1</td>\n",
       "    </tr>\n",
       "    <tr>\n",
       "      <th>140</th>\n",
       "      <td>0</td>\n",
       "      <td>0.553833</td>\n",
       "      <td>1</td>\n",
       "    </tr>\n",
       "    <tr>\n",
       "      <th>141</th>\n",
       "      <td>0</td>\n",
       "      <td>0.585881</td>\n",
       "      <td>1</td>\n",
       "    </tr>\n",
       "    <tr>\n",
       "      <th>142</th>\n",
       "      <td>1</td>\n",
       "      <td>0.267387</td>\n",
       "      <td>1</td>\n",
       "    </tr>\n",
       "  </tbody>\n",
       "</table>\n",
       "<p>143 rows × 3 columns</p>\n",
       "</div>"
      ],
      "text/plain": [
       "     y_test  chance_test  hand_pred_test\n",
       "0         1     0.374637               1\n",
       "1         0     0.367355               1\n",
       "2         1     0.325055               1\n",
       "3         0     0.716000               1\n",
       "4         0     0.359988               1\n",
       "..      ...          ...             ...\n",
       "138       1     0.328255               1\n",
       "139       1     0.443535               1\n",
       "140       0     0.553833               1\n",
       "141       0     0.585881               1\n",
       "142       1     0.267387               1\n",
       "\n",
       "[143 rows x 3 columns]"
      ]
     },
     "execution_count": 116,
     "metadata": {},
     "output_type": "execute_result"
    }
   ],
   "source": [
    "checking  = pd.DataFrame()\n",
    "checking['y_test'] = y_test3\n",
    "checking['chance_test'] = to_pred_test\n",
    "checking['hand_pred_test'] = hand_pred_test\n",
    "checking"
   ]
  }
 ],
 "metadata": {
  "kernelspec": {
   "display_name": "Python 3 (ipykernel)",
   "language": "python",
   "name": "python3"
  },
  "language_info": {
   "codemirror_mode": {
    "name": "ipython",
    "version": 3
   },
   "file_extension": ".py",
   "mimetype": "text/x-python",
   "name": "python",
   "nbconvert_exporter": "python",
   "pygments_lexer": "ipython3",
   "version": "3.9.12"
  }
 },
 "nbformat": 4,
 "nbformat_minor": 5
}
